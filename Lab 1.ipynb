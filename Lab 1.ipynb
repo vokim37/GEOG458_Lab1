{
 "cells": [
  {
   "cell_type": "markdown",
   "metadata": {},
   "source": [
    "#### Kim Vo - Lab 1\n",
    "This project will convert each feature in a shapefile to GeoJSON file."
   ]
  },
  {
   "cell_type": "code",
   "execution_count": 1,
   "metadata": {
    "collapsed": true
   },
   "outputs": [],
   "source": [
    "import sys\n",
    "sys.path.append('C:\\\\Program Files (x86)\\\\ArcGIS\\\\Desktop10.5\\\\bin')\n",
    "sys.path.append('C:\\\\Program Files (x86)\\\\ArcGIS\\\\Desktop10.5\\\\arcpy')\n",
    "sys.path.append('C:\\\\Program Files (x86)\\\\ArcGIS\\\\Desktop10.5\\\\ArcToolbox\\\\Scripts')\n",
    "import arcpy"
   ]
  },
  {
   "cell_type": "code",
   "execution_count": 2,
   "metadata": {
    "collapsed": true
   },
   "outputs": [],
   "source": [
    "# Initialize work env and declare overwrite output\n",
    "arcpy.env.workspace = \"U:\\\\GEOG458\\\\NewSHP\\\\\"\n",
    "arcpy.env.overwriteOutput = True"
   ]
  },
  {
   "cell_type": "markdown",
   "metadata": {},
   "source": [
    "My first approach for this step was to join the table and the shapefile together, but the AddJoin_management in arcpy took very long time to run, so I decided to add new field to store the county name. "
   ]
  },
  {
   "cell_type": "code",
   "execution_count": 3,
   "metadata": {
    "collapsed": true
   },
   "outputs": [],
   "source": [
    "# Create new field for county names\n",
    "arcpy.AddField_management(\"saep_bg10.shp\", \"cntyName\", \"TEXT\")\n",
    "\n",
    "# Loop through table to get county name\n",
    "nameList = []\n",
    "curS = arcpy.da.SearchCursor(\"WashingtonFIPS.dbf\", [\"CountyName\", \"FIPSCounty\"])\n",
    "for row in curS:\n",
    "    nameList.append(row[0])\n",
    "    # Update county name for new field in the shp\n",
    "    curU = arcpy.da.UpdateCursor(\"saep_bg10.shp\", \"cntyName\", '\"COUNTYFP10\" = ' + \"'%s'\" %row[1])\n",
    "                                # Use where_clause to query out blocks with given county name\n",
    "    for x in curU:\n",
    "        x[0] = row[0]\n",
    "        curU.updateRow(x)\n",
    "del curS\n",
    "del curU"
   ]
  },
  {
   "cell_type": "code",
   "execution_count": 11,
   "metadata": {
    "collapsed": true
   },
   "outputs": [],
   "source": [
    "# Set up the environment variables for GDAL/OGR\n",
    "from subprocess import call\n",
    "import os\n",
    "os.environ[\"GDAL_DATA\"] = \"C:\\\\OSGeo4W64\\\\share\\\\gdal\"\n",
    "os.environ[\"GDAL_DRIVER_PATH\"] = \"C:\\\\OSGeo4W64\\\\bin\\\\gdalplugins\"\n",
    "os.environ[\"PROJ_LIB\"] = \"C:\\\\OSGeo4W64\\\\share\\\\proj\"\n",
    "os.environ[\"PATH\"] = \"C:\\\\OSGeo4W64\\\\bin;\"+os.environ[\"PATH\"]+\";C:\\\\OSGeo4W64\\\\apps\\\\msys\\\\bin;C:\\\\OSGeo4W64\\\\apps\\\\Python27\\\\Scripts\""
   ]
  },
  {
   "cell_type": "markdown",
   "metadata": {},
   "source": [
    "For this step, I use where clause to query out all blocks belong to each county by county name, and export them into 39 shapefiles"
   ]
  },
  {
   "cell_type": "code",
   "execution_count": 13,
   "metadata": {
    "collapsed": true,
    "scrolled": true
   },
   "outputs": [],
   "source": [
    "# Export shapefiles for each county\n",
    "for name in nameList:\n",
    "    arcpy.FeatureClassToFeatureClass_conversion(\"saep_bg10.shp\", \"U:\\\\GEOG458\\\\NewSHP\\\\ExportSHP\\\\\",\n",
    "                                                \"\" + name, '\"cntyName\" = ' + \"'%s'\" %name)\n",
    "                                                # Use where_clause to query out blocks with given county name"
   ]
  },
  {
   "cell_type": "markdown",
   "metadata": {},
   "source": [
    "I used to provided resource to find the projection which is 2927, and then converted them to 39 geojson files"
   ]
  },
  {
   "cell_type": "code",
   "execution_count": 14,
   "metadata": {
    "collapsed": true,
    "scrolled": true
   },
   "outputs": [],
   "source": [
    "# Convert each shp into geoJSON file\n",
    "for name in nameList:\n",
    "    call(['C:\\\\OSGeo4W64\\\\bin\\\\ogr2ogr',\n",
    "      '-f','GeoJSON','-t_srs','WGS84',\n",
    "      '-s_srs','EPSG:2927',\n",
    "      'U:\\\\GEOG458\\\\NewSHP\\\\ExportJSON\\\\' + name + '.geojson',\n",
    "      'U:\\\\GEOG458\\\\NewSHP\\\\ExportSHP\\\\' + name + '.shp'])"
   ]
  },
  {
   "cell_type": "markdown",
   "metadata": {},
   "source": [
    "I created a list to store population for each county, then sort the list in descending order, then I used while loop to print out the first 10."
   ]
  },
  {
   "cell_type": "code",
   "execution_count": 4,
   "metadata": {},
   "outputs": [
    {
     "name": "stdout",
     "output_type": "stream",
     "text": [
      "2153700.0\n",
      "859400.0\n",
      "789400.0\n",
      "499800.0\n",
      "471000.0\n",
      "276900.0\n",
      "264300.0\n",
      "253000.0\n",
      "216300.0\n",
      "193500.0\n"
     ]
    }
   ],
   "source": [
    "# Add total population from each county to a list\n",
    "popList = []\n",
    "for name in nameList:\n",
    "    pop = 0\n",
    "    curS = arcpy.da.SearchCursor(\"saep_bg10.shp\", [\"POP2017\"], '\"cntyName\" = ' + \"'%s'\" %name)\n",
    "                                # Use where_clause to query out blocks with given county name\n",
    "    for row in curS:\n",
    "        pop += row[0]\n",
    "    popList.append(pop)\n",
    "    \n",
    "# Sort popList into descending order\n",
    "popList.sort(reverse=True)\n",
    "\n",
    "# Print out population in descending order\n",
    "i = 0\n",
    "while i < 10:\n",
    "    print popList[i]\n",
    "    i += 1\n"
   ]
  },
  {
   "cell_type": "markdown",
   "metadata": {
    "collapsed": true
   },
   "source": [
    "This project took me about 7 hours, because my first approach was wrong because I used dissolve to clean up my shapefile. It also took me awhile to realize AddJoin_management function doesn't work well in arcpy, so I have to switch to another method. For overall, I did learned a lot from this project, and it requires a lot of problem solving. "
   ]
  },
  {
   "cell_type": "code",
   "execution_count": null,
   "metadata": {
    "collapsed": true
   },
   "outputs": [],
   "source": []
  }
 ],
 "metadata": {
  "kernelspec": {
   "display_name": "Python 2",
   "language": "python",
   "name": "python2"
  },
  "language_info": {
   "codemirror_mode": {
    "name": "ipython",
    "version": 2
   },
   "file_extension": ".py",
   "mimetype": "text/x-python",
   "name": "python",
   "nbconvert_exporter": "python",
   "pygments_lexer": "ipython2",
   "version": "2.7.13"
  }
 },
 "nbformat": 4,
 "nbformat_minor": 2
}
